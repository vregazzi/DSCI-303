{
 "cells": [
  {
   "cell_type": "markdown",
   "id": "ff9bd379",
   "metadata": {},
   "source": [
    "# DSCI 303 - Homework 01\n",
    "**Vincent Regazzi**"
   ]
  },
  {
   "cell_type": "markdown",
   "id": "a2892b64",
   "metadata": {},
   "source": [
    "## Problem 1: Arithmetic and Geometric Means"
   ]
  },
  {
   "cell_type": "code",
   "execution_count": 1,
   "id": "75e6d260",
   "metadata": {},
   "outputs": [
    {
     "name": "stdout",
     "output_type": "stream",
     "text": [
      "Sum:             59\n",
      "Product:         42636\n",
      "Arithmetic Mean: 14.75\n",
      "Geometric Mean:  14.37\n"
     ]
    }
   ],
   "source": [
    "x0 = 11\n",
    "x1 = 12\n",
    "x2 = 17\n",
    "x3 = 19\n",
    "total = x0 + x1 + x2 + x3\n",
    "product = x0 * x1 * x2 * x3\n",
    "arith_mean = total / 4\n",
    "geom_mean = product ** (1/4)\n",
    "print(f'Sum:             {total}')\n",
    "print(f'Product:         {product}')\n",
    "print(f'Arithmetic Mean: {round(arith_mean, 2)}')\n",
    "print(f'Geometric Mean:  {round(geom_mean, 2)}')"
   ]
  },
  {
   "cell_type": "markdown",
   "id": "6c73141d",
   "metadata": {},
   "source": [
    "## Problem 2: Calculating Bill"
   ]
  },
  {
   "cell_type": "code",
   "execution_count": 2,
   "id": "e41cb07f",
   "metadata": {},
   "outputs": [
    {
     "name": "stdout",
     "output_type": "stream",
     "text": [
      "2 Side Salads:  $ 7.90\n",
      "2 Hamburgers:   $17.90\n",
      "2 Diet Sodas:   $ 5.00\n",
      "----------------------\n",
      "Subtotal:       $30.80\n",
      "Tax (4.75%):    $ 1.46\n",
      "Tip (15%):      $ 4.62\n",
      "----------------------\n",
      "Total Charge:   $36.88\n"
     ]
    }
   ],
   "source": [
    "ss_cost = 3.95 * 2 \n",
    "hb_cost = 8.95 * 2\n",
    "ds_cost = 2.50 * 2\n",
    "subtotal = ss_cost + hb_cost + ds_cost\n",
    "tax = round(subtotal * .0475, 2)\n",
    "tip = round(subtotal * .15, 2)\n",
    "total_charge = subtotal + tax + tip\n",
    "print(f'2 Side Salads:  ${ss_cost:>4}0')\n",
    "print(f'2 Hamburgers:   ${hb_cost:>4}0')\n",
    "print(f'2 Diet Sodas:   ${ds_cost:>4}0')\n",
    "print('-'*22)\n",
    "print(f'Subtotal:       ${round(subtotal, 2):>4}0')\n",
    "print(f'Tax (4.75%):    ${tax:>5}')\n",
    "print(f'Tip (15%):      ${tip:>5}')\n",
    "print('-'*22)\n",
    "print(f'Total Charge:   ${round(total_charge, 2):>5}')"
   ]
  },
  {
   "cell_type": "markdown",
   "id": "577ef258",
   "metadata": {},
   "source": [
    "## Problem 3: Volume of a Sphere"
   ]
  },
  {
   "cell_type": "code",
   "execution_count": 3,
   "id": "46962cad",
   "metadata": {
    "scrolled": true
   },
   "outputs": [
    {
     "name": "stdout",
     "output_type": "stream",
     "text": [
      "The volume of a sphere with radius 4.6 is equal to 407.72.\n",
      "The volume of a sphere with radius 7.2 is equal to 1563.456.\n",
      "The volume of a sphere with radius 9.7 is equal to 3822.992.\n"
     ]
    }
   ],
   "source": [
    "pi = 3.14159\n",
    "r1 = 4.6\n",
    "r2 = 7.2\n",
    "r3 = 9.7\n",
    "v1 = (4/3)*pi*r1**3\n",
    "v2 = (4/3)*pi*r2**3\n",
    "v3 = (4/3)*pi*r3**3\n",
    "print(f'The volume of a sphere with radius {r1} is equal to {round(v1, 3)}.')\n",
    "print(f'The volume of a sphere with radius {r2} is equal to {round(v2, 3)}.')\n",
    "print(f'The volume of a sphere with radius {r3} is equal to {round(v3, 3)}.')"
   ]
  },
  {
   "cell_type": "markdown",
   "id": "834d6af0",
   "metadata": {},
   "source": [
    "## Problem 4: Simple Interest"
   ]
  },
  {
   "cell_type": "code",
   "execution_count": 4,
   "id": "23795c97",
   "metadata": {
    "scrolled": true
   },
   "outputs": [
    {
     "name": "stdout",
     "output_type": "stream",
     "text": [
      "Amount repaid: $225.75\n"
     ]
    }
   ],
   "source": [
    "P = 210\n",
    "i = .09\n",
    "t = (10/12)\n",
    "A = P * (1 + i * t)\n",
    "print(f'Amount repaid: ${A}')"
   ]
  },
  {
   "cell_type": "markdown",
   "id": "54a685ff",
   "metadata": {},
   "source": [
    "## Problem 5: Compount Interest"
   ]
  },
  {
   "cell_type": "code",
   "execution_count": 5,
   "id": "da176191",
   "metadata": {
    "scrolled": true
   },
   "outputs": [
    {
     "name": "stdout",
     "output_type": "stream",
     "text": [
      "Amount repaid: $463.05\n"
     ]
    }
   ],
   "source": [
    "P = 400\n",
    "i = .05\n",
    "t = 3\n",
    "A = round(P * (1+i) ** t, 2)\n",
    "print(f'Amount repaid: ${A}')"
   ]
  },
  {
   "cell_type": "markdown",
   "id": "b64d91f2",
   "metadata": {},
   "source": [
    "## Problem 6: Annuity"
   ]
  },
  {
   "cell_type": "code",
   "execution_count": 6,
   "id": "91c96093",
   "metadata": {},
   "outputs": [
    {
     "name": "stdout",
     "output_type": "stream",
     "text": [
      "Balance after 18 years: $51290.83\n"
     ]
    }
   ],
   "source": [
    "PMT = 2000\n",
    "i = .04\n",
    "n = 18\n",
    "A = round(PMT * (((1 + i)**n - 1)/i), 2)\n",
    "print(f'Balance after 18 years: ${A}')"
   ]
  },
  {
   "cell_type": "markdown",
   "id": "8b95975d",
   "metadata": {},
   "source": [
    "## Problem 7: Probability"
   ]
  },
  {
   "cell_type": "code",
   "execution_count": 7,
   "id": "6880cb63",
   "metadata": {},
   "outputs": [
    {
     "name": "stdout",
     "output_type": "stream",
     "text": [
      "Probability that both people are late:        0.18\n",
      "Probability that at least one person is late: 0.72\n"
     ]
    }
   ],
   "source": [
    "prob_A = 0.6\n",
    "prob_B = 0.3\n",
    "prob_A_and_B = prob_A * prob_B\n",
    "prob_A_or_B = prob_A + prob_B - prob_A_and_B\n",
    "print(f'Probability that both people are late:        {prob_A_and_B}')\n",
    "print(f'Probability that at least one person is late: {prob_A_or_B}')"
   ]
  },
  {
   "cell_type": "markdown",
   "id": "982ee7e7",
   "metadata": {},
   "source": [
    "## Problem 8: Constructing an Output Message"
   ]
  },
  {
   "cell_type": "code",
   "execution_count": 8,
   "id": "e660b5fa",
   "metadata": {},
   "outputs": [
    {
     "name": "stdout",
     "output_type": "stream",
     "text": [
      "First Name: Vincent\n",
      "Last Name:  Regazzi\n",
      "Student ID: 1041635\n"
     ]
    }
   ],
   "source": [
    "first = 'Vincent'\n",
    "last = 'Regazzi'\n",
    "sid = 1041635\n",
    "msg = f'First Name: {first}\\nLast Name:  {last}\\nStudent ID: {sid}'\n",
    "print(msg)"
   ]
  },
  {
   "cell_type": "code",
   "execution_count": 9,
   "id": "4b4ca09d",
   "metadata": {},
   "outputs": [
    {
     "name": "stdout",
     "output_type": "stream",
     "text": [
      "59\n"
     ]
    }
   ],
   "source": [
    "print(len(msg))"
   ]
  }
 ],
 "metadata": {
  "kernelspec": {
   "display_name": "Python 3 (ipykernel)",
   "language": "python",
   "name": "python3"
  },
  "language_info": {
   "codemirror_mode": {
    "name": "ipython",
    "version": 3
   },
   "file_extension": ".py",
   "mimetype": "text/x-python",
   "name": "python",
   "nbconvert_exporter": "python",
   "pygments_lexer": "ipython3",
   "version": "3.10.6"
  }
 },
 "nbformat": 4,
 "nbformat_minor": 5
}
