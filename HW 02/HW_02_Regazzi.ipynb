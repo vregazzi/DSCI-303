{
 "cells": [
  {
   "cell_type": "markdown",
   "id": "017fe4b8",
   "metadata": {},
   "source": [
    "# DSCI 303 - Homework 02\n",
    "### Vincent Regazzi"
   ]
  },
  {
   "cell_type": "markdown",
   "id": "6f8c79ba",
   "metadata": {},
   "source": [
    "## Problem 1: Altering Lists"
   ]
  },
  {
   "cell_type": "code",
   "execution_count": 1,
   "id": "0458c279",
   "metadata": {},
   "outputs": [],
   "source": [
    "employees = ['Beth', 'Fred', 'Drew', 'Alex', 'Ema', 'Chad']\n",
    "years = [15, 11, 8, 5, 4, 2]"
   ]
  },
  {
   "cell_type": "code",
   "execution_count": 2,
   "id": "da31b441",
   "metadata": {},
   "outputs": [
    {
     "name": "stdout",
     "output_type": "stream",
     "text": [
      "['Beth', 'Gina', 'Fred', 'Drew', 'Alex', 'Ema', 'Herb', 'Chad', 0]\n",
      "[15, 12, 11, 8, 5, 4, 3, 2, 0]\n"
     ]
    }
   ],
   "source": [
    "employees.insert(1, 'Gina')\n",
    "years.insert(1, 12)\n",
    "employees.insert(6, 'Herb')\n",
    "years.insert(6, 3)\n",
    "employees.append(0)\n",
    "years.append(0)\n",
    "print(employees)\n",
    "print(years)"
   ]
  },
  {
   "cell_type": "code",
   "execution_count": 3,
   "id": "a4a45428",
   "metadata": {},
   "outputs": [
    {
     "name": "stdout",
     "output_type": "stream",
     "text": [
      "['Beth', 'Gina', 'Drew', 'Emma', 'Alex', 'Herb', 'Chad', 0]\n",
      "[15, 12, 8, 6, 5, 3, 2, 0]\n"
     ]
    }
   ],
   "source": [
    "employees.remove('Fred')\n",
    "years.remove(11)\n",
    "years[3] = 6\n",
    "employees[3] = 'Emma'\n",
    "years[4] = 5\n",
    "employees[4] = 'Alex'\n",
    "print(employees)\n",
    "print(years)"
   ]
  },
  {
   "cell_type": "markdown",
   "id": "5c201001",
   "metadata": {},
   "source": [
    "## Problem 2: Sorting and Slicing Lists"
   ]
  },
  {
   "cell_type": "code",
   "execution_count": 4,
   "id": "b23c985f",
   "metadata": {},
   "outputs": [],
   "source": [
    "import random\n",
    "random.seed(12)\n",
    "random_list = random.sample(range(500), 99)"
   ]
  },
  {
   "cell_type": "code",
   "execution_count": 5,
   "id": "c0054229",
   "metadata": {},
   "outputs": [
    {
     "name": "stdout",
     "output_type": "stream",
     "text": [
      "Length of random_list: 99\n",
      "First 10 Elements of random_list: [242, 137, 336, 270, 341, 179, 73, 195, 5, 191]\n"
     ]
    }
   ],
   "source": [
    "print(f'Length of random_list: {len(random_list)}')\n",
    "print(f'First 10 Elements of random_list: {random_list[:10]}')"
   ]
  },
  {
   "cell_type": "code",
   "execution_count": 6,
   "id": "5ee3f87f",
   "metadata": {},
   "outputs": [
    {
     "name": "stdout",
     "output_type": "stream",
     "text": [
      "The sum of the elements in random list is 23739.\n"
     ]
    }
   ],
   "source": [
    "print(f'The sum of the elements in random list is {sum(random_list)}.')"
   ]
  },
  {
   "cell_type": "code",
   "execution_count": 7,
   "id": "47c7c08a",
   "metadata": {},
   "outputs": [
    {
     "name": "stdout",
     "output_type": "stream",
     "text": [
      "First 10 Elements of sorted_list: [0, 5, 9, 15, 26, 30, 31, 38, 42, 44]\n",
      "First 10 Elements of random_list: [242, 137, 336, 270, 341, 179, 73, 195, 5, 191]\n"
     ]
    }
   ],
   "source": [
    "sorted_list = sorted(random_list)\n",
    "print(f'First 10 Elements of sorted_list: {sorted_list[:10]}')\n",
    "print(f'First 10 Elements of random_list: {random_list[:10]}')"
   ]
  },
  {
   "cell_type": "code",
   "execution_count": 8,
   "id": "429f9545",
   "metadata": {},
   "outputs": [
    {
     "name": "stdout",
     "output_type": "stream",
     "text": [
      "The smallest element of bot_slice is 0.\n",
      "The largest element of bot_slice is 173.\n",
      "\n",
      "The smallest element of mid_slice is 179.\n",
      "The largest element of mid_slice is 311.\n",
      "\n",
      "The smallest element of top_slice is 318.\n",
      "The largest element of top_slice is 484.\n"
     ]
    }
   ],
   "source": [
    "bot_slice = sorted_list[:33]\n",
    "mid_slice = sorted_list[33:-33]\n",
    "top_slice = sorted_list[-33:]\n",
    "print(f'The smallest element of bot_slice is {bot_slice[0]}.')\n",
    "print(f'The largest element of bot_slice is {bot_slice[-1]}.')\n",
    "print()\n",
    "print(f'The smallest element of mid_slice is {mid_slice[0]}.')\n",
    "print(f'The largest element of mid_slice is {mid_slice[-1]}.')\n",
    "print()\n",
    "print(f'The smallest element of top_slice is {top_slice[0]}.')\n",
    "print(f'The largest element of top_slice is {top_slice[-1]}.')"
   ]
  },
  {
   "cell_type": "markdown",
   "id": "7b03e1a4",
   "metadata": {},
   "source": [
    "## Problem 3: Magnitude of a Vector"
   ]
  },
  {
   "cell_type": "code",
   "execution_count": 9,
   "id": "81af4c59",
   "metadata": {},
   "outputs": [
    {
     "name": "stdout",
     "output_type": "stream",
     "text": [
      "20.2485\n"
     ]
    }
   ],
   "source": [
    "vector = [11, 6, -8, 4, -13, 2]\n",
    "\n",
    "mag_v = 0\n",
    "for i in vector:\n",
    "    mag_v += i**2\n",
    "mag_v = mag_v ** .5\n",
    "\n",
    "print(round(mag_v, 4))"
   ]
  },
  {
   "cell_type": "code",
   "execution_count": 10,
   "id": "446ee0b0",
   "metadata": {},
   "outputs": [
    {
     "name": "stdout",
     "output_type": "stream",
     "text": [
      "[0.5433, 0.2963, -0.3951, 0.1975, -0.642, 0.0988]\n"
     ]
    }
   ],
   "source": [
    "unit_vector = []\n",
    "for i in range(0, len(vector)):\n",
    "    unit_vector.append(vector[i]/mag_v)\n",
    "\n",
    "rounded_unit_vector = []\n",
    "for i in range(0, len(unit_vector)):\n",
    "    rounded_unit_vector.append(round(unit_vector[i], 4))\n",
    "\n",
    "print(rounded_unit_vector)"
   ]
  },
  {
   "cell_type": "code",
   "execution_count": 11,
   "id": "6561ecc9",
   "metadata": {},
   "outputs": [
    {
     "name": "stdout",
     "output_type": "stream",
     "text": [
      "1.0\n"
     ]
    }
   ],
   "source": [
    "mag_u = 0\n",
    "for i in unit_vector:\n",
    "    mag_u += i**2\n",
    "mag_u = mag_u ** .5\n",
    "\n",
    "print(mag_u)"
   ]
  },
  {
   "cell_type": "markdown",
   "id": "ba5174f5",
   "metadata": {},
   "source": [
    "## Problem 4: Fibonacci Sequence"
   ]
  },
  {
   "cell_type": "code",
   "execution_count": 12,
   "id": "22964223",
   "metadata": {},
   "outputs": [
    {
     "name": "stdout",
     "output_type": "stream",
     "text": [
      "[0, 1, 1, 2, 3, 5, 8, 13, 21, 34, 55, 89, 144, 233, 377, 610, 987, 1597, 2584, 4181, 6765, 10946, 17711, 28657, 46368, 75025, 121393, 196418, 317811, 514229, 832040]\n"
     ]
    }
   ],
   "source": [
    "fib = [0, 1]\n",
    "for i in range(0,29):\n",
    "    fib.append(fib[-1] + fib[-2])\n",
    "print(fib)"
   ]
  },
  {
   "cell_type": "markdown",
   "id": "198be60a",
   "metadata": {},
   "source": [
    "## Problem 5: Printing a Table"
   ]
  },
  {
   "cell_type": "code",
   "execution_count": 13,
   "id": "f64ad12f",
   "metadata": {},
   "outputs": [
    {
     "name": "stdout",
     "output_type": "stream",
     "text": [
      "First       Last        Major             Credits    GPA\n",
      "--------------------------------------------------------\n",
      "Anna        Anderson    Mathematics           110   3.56\n",
      "Beatrice    Brown       Data Science           83   3.24\n",
      "Charles     Clark       Biology                64   3.87\n",
      "David       Daniel      Chemistry              35   2.83\n",
      "Emma        Edwards     Computer Science      104   3.61\n"
     ]
    }
   ],
   "source": [
    "first = ['Anna', 'Beatrice', 'Charles', 'David', 'Emma']\n",
    "last = ['Anderson', 'Brown', 'Clark', 'Daniel', 'Edwards']\n",
    "major = ['Mathematics', 'Data Science', 'Biology', 'Chemistry', 'Computer Science']\n",
    "credits = [110, 83, 64, 35, 104]\n",
    "gpa = [3.56, 3.24, 3.87, 2.83, 3.61]\n",
    "\n",
    "print('First       Last        Major             Credits    GPA')\n",
    "print('-'*56)\n",
    "for i in range(0,5):\n",
    "    print(f'{first[i]:<12}{last[i]:<12}{major[i]:<18}{credits[i]:>7}{gpa[i]:7}')"
   ]
  },
  {
   "cell_type": "markdown",
   "id": "0fb8c626",
   "metadata": {},
   "source": [
    "## Problem 6: Calculating Sum of Squared Errors"
   ]
  },
  {
   "cell_type": "code",
   "execution_count": 14,
   "id": "ef5df8ea",
   "metadata": {},
   "outputs": [],
   "source": [
    "length = [22.7, 22.4, 25.8, 21.3, 20.1, 22.1, 21.1, 25.3, 26.9, 26.9, 23.0, 23.8, 26.2, 20.4, 23.0, 21.9, 23.5, 27.8, 25.3, 25.9]\n",
    "weight = [9.2, 8.8, 10.7, 8.3, 6.2, 8.6, 7.2, 11.2, 10.5, 11.3, 9.6, 9.9, 10.9, 5.9, 9.5, 9.1, 9.7, 11.6, 10.2, 10.5]"
   ]
  },
  {
   "cell_type": "code",
   "execution_count": 15,
   "id": "7ecb11ab",
   "metadata": {},
   "outputs": [
    {
     "name": "stdout",
     "output_type": "stream",
     "text": [
      "[8.42, 8.24, 10.28, 7.58, 6.86, 8.06, 7.46, 9.98, 10.94, 10.94, 8.6, 9.08, 10.52, 7.04, 8.6, 7.94, 8.9, 11.48, 9.98, 10.34]\n"
     ]
    }
   ],
   "source": [
    "pred_weight = []\n",
    "for n in range(0, len(length)):\n",
    "    pred_weight.append(round((0.6 * length[n] - 5.2), 2))\n",
    "print(pred_weight)"
   ]
  },
  {
   "cell_type": "code",
   "execution_count": 16,
   "id": "d158b398",
   "metadata": {},
   "outputs": [
    {
     "name": "stdout",
     "output_type": "stream",
     "text": [
      "10.2236\n"
     ]
    }
   ],
   "source": [
    "sse = 0\n",
    "for j in range(0, len(pred_weight)):\n",
    "    sse += (weight[j] - pred_weight[j]) ** 2\n",
    "print(round(sse, 4))"
   ]
  },
  {
   "cell_type": "markdown",
   "id": "7dc4e75a",
   "metadata": {},
   "source": [
    "## Problem 7: Determining Monthly Payments"
   ]
  },
  {
   "cell_type": "code",
   "execution_count": 17,
   "id": "a1081a08",
   "metadata": {},
   "outputs": [
    {
     "name": "stdout",
     "output_type": "stream",
     "text": [
      "A loan of $100000 would require monthly payments of $524.67.\n",
      "A loan of $110000 would require monthly payments of $577.13.\n",
      "A loan of $120000 would require monthly payments of $629.60.\n",
      "A loan of $130000 would require monthly payments of $682.06.\n",
      "A loan of $140000 would require monthly payments of $734.53.\n",
      "A loan of $150000 would require monthly payments of $787.00.\n",
      "A loan of $160000 would require monthly payments of $839.46.\n",
      "A loan of $170000 would require monthly payments of $891.93.\n",
      "A loan of $180000 would require monthly payments of $944.40.\n",
      "A loan of $190000 would require monthly payments of $996.86.\n",
      "A loan of $200000 would require monthly payments of $1049.33.\n"
     ]
    }
   ],
   "source": [
    "i = 0.004\n",
    "n = 360\n",
    "for k in range(1, 12):\n",
    "    L = 90000 + k * 10000\n",
    "    PMT = round((((L * i) / (1 - (1 + i) ** -n))), 2)\n",
    "    \n",
    "    print(f'A loan of ${L} would require monthly payments of ${PMT:<06}.')"
   ]
  },
  {
   "cell_type": "markdown",
   "id": "75377f44",
   "metadata": {},
   "source": [
    "## Problem 8: Adding Matrices"
   ]
  },
  {
   "cell_type": "code",
   "execution_count": 18,
   "id": "33b46255",
   "metadata": {},
   "outputs": [],
   "source": [
    "A = [[13, 43, 28, 22, 41], [17, 39, 46, 16, 21], [41, 34, 31, 25, 14]]\n",
    "B = [[35, 29, 43, 21, 31], [48, 26, 19, 17, 23], [32, 34, 24, 16, 27]]"
   ]
  },
  {
   "cell_type": "code",
   "execution_count": 19,
   "id": "27bd2e14",
   "metadata": {},
   "outputs": [
    {
     "name": "stdout",
     "output_type": "stream",
     "text": [
      "[48, 72, 71, 43, 72]\n",
      "[65, 65, 65, 33, 44]\n",
      "[73, 68, 55, 41, 41]\n"
     ]
    }
   ],
   "source": [
    "AplusB =[]\n",
    "for row in range(0, len(A)):\n",
    "    tempRow = []\n",
    "    for column in range(0, len(A[row])):\n",
    "        tempRow.append(A[row][column] + B[row][column])\n",
    "    AplusB.append(tempRow)\n",
    "    print(AplusB[row])"
   ]
  }
 ],
 "metadata": {
  "kernelspec": {
   "display_name": "Python 3 (ipykernel)",
   "language": "python",
   "name": "python3"
  },
  "language_info": {
   "codemirror_mode": {
    "name": "ipython",
    "version": 3
   },
   "file_extension": ".py",
   "mimetype": "text/x-python",
   "name": "python",
   "nbconvert_exporter": "python",
   "pygments_lexer": "ipython3",
   "version": "3.10.6"
  }
 },
 "nbformat": 4,
 "nbformat_minor": 5
}
