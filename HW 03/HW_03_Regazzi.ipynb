{
 "cells": [
  {
   "cell_type": "markdown",
   "id": "463517a2",
   "metadata": {},
   "source": [
    "# DSCI 303 - Homework 03\n",
    "**Vincent Regazzi**"
   ]
  },
  {
   "cell_type": "markdown",
   "id": "2001ef35",
   "metadata": {},
   "source": [
    "## Problem 1: Calculating Exam Scores"
   ]
  },
  {
   "cell_type": "code",
   "execution_count": 1,
   "id": "d519bcfa",
   "metadata": {},
   "outputs": [
    {
     "name": "stdout",
     "output_type": "stream",
     "text": [
      "Student 1 Grade: 64%\n",
      "Student 2 Grade: 84%\n"
     ]
    }
   ],
   "source": [
    "correct = ['D','B','C','A','C','D','A','C','C','B','D','A','B','D','C','D','C','D','C','A','B','D','C','B','A']\n",
    "answers1 = ['A','B','C','A','B','D','A','A','C','B','D','A','D','C','C','B','C','D','B','A','D','D','C','C','A']\n",
    "answers2 = ['D','A','C','A','B','D','A','C','C','B','D','A','B','D','A','D','C','D','C','A','B','C','C','B','A']\n",
    "count1 = 0\n",
    "count2 = 0\n",
    "    \n",
    "for answer in range(0, len(correct)):\n",
    "    if correct[answer] == answers1[answer]:\n",
    "        count1 += 1\n",
    "    if correct[answer] == answers2[answer]:\n",
    "        count2 += 1\n",
    "\n",
    "grade1 = int(count1/.25)\n",
    "grade2 = int(count2/.25)\n",
    "print(f'Student 1 Grade: {grade1}%')\n",
    "print(f'Student 2 Grade: {grade2}%')"
   ]
  },
  {
   "cell_type": "markdown",
   "id": "ae5a8567",
   "metadata": {},
   "source": [
    "## Problem 2: Calculating Price of a Bulk Order"
   ]
  },
  {
   "cell_type": "code",
   "execution_count": 2,
   "id": "f1a052ca",
   "metadata": {},
   "outputs": [
    {
     "name": "stdout",
     "output_type": "stream",
     "text": [
      "The cost for an order of 84 widgets is $29400.\n",
      "The cost for an order of 100 widgets is $35000.\n",
      "The cost for an order of 126 widgets is $42800.\n",
      "The cost for an order of 150 widgets is $50000.\n",
      "The cost for an order of 186 widgets is $60800.\n",
      "The cost for an order of 200 widgets is $65000.\n",
      "The cost for an order of 216 widgets is $69000.\n",
      "The cost for an order of 248 widgets is $77000.\n"
     ]
    }
   ],
   "source": [
    "quantities = [84, 100, 126, 150, 186, 200, 216, 248]\n",
    "for i in range(0, len(quantities)):\n",
    "    if quantities[i] <= 100:\n",
    "        price = quantities[i] * 350\n",
    "    elif quantities[i] <= 200:\n",
    "        price = (quantities[i] - 100) * 300 + 35000\n",
    "    else:\n",
    "        price = (quantities[i] - 200) * 250 + 65000\n",
    "    print(f'The cost for an order of {quantities[i]} widgets is ${price}.')\n",
    "        "
   ]
  },
  {
   "cell_type": "markdown",
   "id": "f58dfce3",
   "metadata": {},
   "source": [
    "## Problem 3: Creating an Amortization Schedule"
   ]
  },
  {
   "cell_type": "code",
   "execution_count": 3,
   "id": "b087b968",
   "metadata": {},
   "outputs": [
    {
     "name": "stdout",
     "output_type": "stream",
     "text": [
      "The balance at the end of year 1 is $900.00.\n",
      "The balance at the end of year 2 is $795.00.\n",
      "The balance at the end of year 3 is $684.75.\n",
      "The balance at the end of year 4 is $568.99.\n",
      "The balance at the end of year 5 is $447.44.\n",
      "The balance at the end of year 6 is $319.81.\n",
      "The balance at the end of year 7 is $185.80.\n",
      "The balance at the end of year 8 is $ 45.09.\n",
      "The balance at the end of year 9 is $  0.00.\n"
     ]
    }
   ],
   "source": [
    "balance = 1000\n",
    "i = .05\n",
    "pmt = 150\n",
    "n = 0\n",
    "\n",
    "while balance != 0:\n",
    "    balance = round(balance*(1+i) - pmt, 2)\n",
    "    n += 1\n",
    "    \n",
    "    if balance < 0:\n",
    "        final_payment = balance + 150\n",
    "        balance = 0\n",
    "    if balance == 0:\n",
    "        print(f'The balance at the end of year {n} is $  0.00.')\n",
    "    elif balance <= 100:\n",
    "        print(f'The balance at the end of year {n} is $ {balance:<05}.')\n",
    "    else:\n",
    "        print(f'The balance at the end of year {n} is ${balance:<06}.')"
   ]
  },
  {
   "cell_type": "code",
   "execution_count": 4,
   "id": "449224c7",
   "metadata": {},
   "outputs": [
    {
     "name": "stdout",
     "output_type": "stream",
     "text": [
      "The amount of the final payment will be $47.34.\n"
     ]
    }
   ],
   "source": [
    "print(f'The amount of the final payment will be ${final_payment}.')"
   ]
  },
  {
   "cell_type": "markdown",
   "id": "e495349e",
   "metadata": {},
   "source": [
    "## Problem 4: Hailstone Sequences"
   ]
  },
  {
   "cell_type": "code",
   "execution_count": 5,
   "id": "2f9a83b0",
   "metadata": {},
   "outputs": [
    {
     "name": "stdout",
     "output_type": "stream",
     "text": [
      "[15, 46, 23, 70, 35, 106, 53, 160, 80, 40, 20, 10, 5, 16, 8, 4, 2, 1]\n",
      "[17, 52, 26, 13, 40, 20, 10, 5, 16, 8, 4, 2, 1]\n",
      "[22, 11, 34, 17, 52, 26, 13, 40, 20, 10, 5, 16, 8, 4, 2, 1]\n"
     ]
    }
   ],
   "source": [
    "hs15 = [15]\n",
    "while hs15[-1] != 1:\n",
    "    if hs15[-1] % 2 == 0:\n",
    "        hs15.append(int(hs15[-1]/2))  \n",
    "    else:\n",
    "        hs15.append(hs15[-1]*3 + 1)\n",
    "print(hs15)\n",
    "\n",
    "hs17 = [17]\n",
    "while hs17[-1] != 1:\n",
    "    if hs17[-1] % 2 == 0:\n",
    "        hs17.append(int(hs17[-1]/2))  \n",
    "    else:\n",
    "        hs17.append(hs17[-1]*3 + 1)\n",
    "print(hs17)\n",
    "\n",
    "hs22 = [22]\n",
    "while hs22[-1] != 1:\n",
    "    if hs22[-1] % 2 == 0:\n",
    "        hs22.append(int(hs22[-1]/2))  \n",
    "    else:\n",
    "        hs22.append(hs22[-1]*3 + 1)\n",
    "print(hs22)"
   ]
  },
  {
   "cell_type": "markdown",
   "id": "2aa1b2f0",
   "metadata": {},
   "source": [
    "## Problem 5: Predator/Prey Model"
   ]
  },
  {
   "cell_type": "code",
   "execution_count": 6,
   "id": "1ef88993",
   "metadata": {},
   "outputs": [
    {
     "name": "stdout",
     "output_type": "stream",
     "text": [
      "Year     r_pop   w_pop \n",
      "-----------------------\n",
      "0        1000    200\n",
      "1        1100    220\n",
      "2        1166    249\n",
      "3        1168    286\n",
      "4        1084    329\n",
      "5         913    370\n",
      "6         694    397\n",
      "7         490    400\n",
      "8         343    379\n",
      "9         255    342\n",
      "10        208    300\n",
      "11        187    259\n",
      "12        184    222\n",
      "13        194    190\n",
      "14        217    163\n",
      "15        255    141\n",
      "16        311    124\n",
      "17        389    111\n",
      "18        497    102\n",
      "19        644     97\n",
      "20        841     96\n",
      "21       1100    101\n",
      "22       1428    114\n",
      "23       1816    140\n",
      "24       2216    188\n",
      "25       2491    275\n",
      "26       2366    426\n",
      "27       1533    643\n",
      "28        328    810\n",
      "29          0    728\n"
     ]
    }
   ],
   "source": [
    "r_pop = 1000\n",
    "w_pop = 200\n",
    "year = 0\n",
    "\n",
    "print('Year     r_pop   w_pop ')\n",
    "print('-'*23)\n",
    "print(f'{year:<9}{r_pop:>4}    {w_pop:>3}')\n",
    "\n",
    "while r_pop and w_pop > 0:\n",
    "    r_pop_prev = r_pop\n",
    "    w_pop_prev = w_pop\n",
    "    \n",
    "    r_pop = round(1.5 * r_pop_prev - 0.002 * r_pop_prev * w_pop_prev)\n",
    "    w_pop = round(0.8 * w_pop_prev + .0003 * r_pop_prev * w_pop_prev)\n",
    "    year += 1\n",
    "    \n",
    "    if r_pop < 0:\n",
    "        r_pop = 0\n",
    "    if w_pop < 0:\n",
    "        w_pop = 0\n",
    "        \n",
    "    print(f'{year:<9}{r_pop:>4}    {w_pop:>3}')"
   ]
  },
  {
   "cell_type": "markdown",
   "id": "003fb1d8",
   "metadata": {},
   "source": [
    "## Problem 6: Finding a Root of a Polynomial Function"
   ]
  },
  {
   "cell_type": "code",
   "execution_count": 7,
   "id": "f29f746b",
   "metadata": {},
   "outputs": [
    {
     "name": "stdout",
     "output_type": "stream",
     "text": [
      "The approximate solution is x = 3.467503860592842.\n",
      "The algorithm took 25 iterations to converge.\n"
     ]
    }
   ],
   "source": [
    "x1 = 0\n",
    "x2 = 5\n",
    "\n",
    "val1 = (x1 ** 3) - (4 * x1 ** 2) + (3 * x1) - 4\n",
    "val2 = (x2 ** 3) - (4 * x2 ** 2) + (3 * x2) - 4\n",
    "n = 0\n",
    "\n",
    "while abs(val1) and abs(val2) >= .000001:\n",
    "    n += 1\n",
    "    new_x = (x1 + x2) / 2\n",
    "    new_val = (new_x ** 3) - (4 * new_x ** 2) + (3 * new_x) - 4\n",
    "    if new_val < 0:\n",
    "        x1 = new_x\n",
    "        val1 = new_val\n",
    "    else:\n",
    "        x2 = new_x\n",
    "        val2 = new_val\n",
    "\n",
    "print(f'The approximate solution is x = {(x1+x2)/2}.')\n",
    "print(f'The algorithm took {n} iterations to converge.')"
   ]
  },
  {
   "cell_type": "markdown",
   "id": "0a3277f8",
   "metadata": {},
   "source": [
    "## Problem 7: Grade Database"
   ]
  },
  {
   "cell_type": "code",
   "execution_count": 8,
   "id": "eb35af6c",
   "metadata": {},
   "outputs": [],
   "source": [
    "students = {\n",
    "    146832:{'first':'Brendan', 'last':'Small'},\n",
    "    147354:{'first':'Melissa', 'last':'Robbins'},\n",
    "    149126:{'first':'Jason', 'last':'Penopolis'},\n",
    "    149735:{'first':'Fenton', 'last':'Mulley'}\n",
    "}\n",
    "courses = {\n",
    "    'ENGL 101':'Composition I',\n",
    "    'ENGL 104':'Composition II',\n",
    "    'MATH 117':'College Algebra',\n",
    "    'MATH 151':'Calculus I',\n",
    "    'CHEM 103':'General Chemistry I',\n",
    "    'ECON 201':'Macroeconomics'\n",
    "}\n",
    "sid = [149126, 146832, 147354, 149735, 149126, 146832, 146832, 149735, 149126, 147354, 147354, 149735]\n",
    "cid = ['ENGL 101', 'MATH 117', 'ENGL 104', 'CHEM 103', 'MATH 117', 'ECON 201', 'ENGL 101', 'ENGL 101', 'CHEM 103', 'ENGL 104', 'MATH 151', 'MATH 117']\n",
    "grade = ['D', 'C', 'B', 'A', 'B', 'C', 'A', 'F', 'B', 'A', 'A', 'C']"
   ]
  },
  {
   "cell_type": "code",
   "execution_count": 9,
   "id": "3421d6c8",
   "metadata": {},
   "outputs": [
    {
     "name": "stdout",
     "output_type": "stream",
     "text": [
      "SID      First     Last        CID        Course Name           Grade\n",
      "---------------------------------------------------------------------\n",
      "149126   Jason     Penopolis   ENGL 101   Composition I             D\n",
      "146832   Brendan   Small       MATH 117   College Algebra           C\n",
      "147354   Melissa   Robbins     ENGL 104   Composition II            B\n",
      "149735   Fenton    Mulley      CHEM 103   General Chemistry I       A\n",
      "149126   Jason     Penopolis   MATH 117   College Algebra           B\n",
      "146832   Brendan   Small       ECON 201   Macroeconomics            C\n",
      "146832   Brendan   Small       ENGL 101   Composition I             A\n",
      "149735   Fenton    Mulley      ENGL 101   Composition I             F\n",
      "149126   Jason     Penopolis   CHEM 103   General Chemistry I       B\n",
      "147354   Melissa   Robbins     ENGL 104   Composition II            A\n",
      "147354   Melissa   Robbins     MATH 151   Calculus I                A\n",
      "149735   Fenton    Mulley      MATH 117   College Algebra           C\n"
     ]
    }
   ],
   "source": [
    "print('SID      First     Last        CID        Course Name           Grade')\n",
    "print('-'*69)\n",
    "for q in range(0, len(sid)):\n",
    "    s = sid[q]\n",
    "    f = students[s]['first']\n",
    "    l = students[s]['last']\n",
    "    c = cid[q]\n",
    "    cn = courses[c]\n",
    "    g = grade[q]\n",
    "    \n",
    "    print(f\"{s:<9}{f:<10}{l:<12}{c:<11}{cn:<22}{g:>5}\")"
   ]
  },
  {
   "cell_type": "markdown",
   "id": "d503e0d7",
   "metadata": {},
   "source": [
    "## Problem 8: Warehouse Inventory"
   ]
  },
  {
   "cell_type": "code",
   "execution_count": 10,
   "id": "1cfa1a0f",
   "metadata": {},
   "outputs": [],
   "source": [
    "prices = {'p101':37.52, 'p117':56.98, 'p122':43.72, 'p125':48.33, 'p126':52.45}\n",
    "inventory = {\n",
    "    'STL':{'p101':520, 'p117':315, 'p122':117, 'p125':258, 'p126':345}, \n",
    "    'CHI':{'p101':125, 'p117':864, 'p122':231, 'p125':612, 'p126':164}, \n",
    "    'KC' :{'p101':264, 'p117':285, 'p122':772, 'p125':467, 'p126':106}\n",
    "}"
   ]
  },
  {
   "cell_type": "code",
   "execution_count": 11,
   "id": "415d776b",
   "metadata": {},
   "outputs": [
    {
     "name": "stdout",
     "output_type": "stream",
     "text": [
      "p101: 909\n",
      "p117: 1464\n",
      "p122: 1120\n",
      "p125: 1337\n",
      "p126: 615\n"
     ]
    }
   ],
   "source": [
    "total_inventory = {}\n",
    "for prod_id in prices.keys():\n",
    "    quantity = 0\n",
    "    for site in inventory:\n",
    "        quantity += inventory[site][prod_id]\n",
    "    total_inventory[prod_id] = quantity\n",
    "    print(f'{prod_id}: {quantity}')"
   ]
  },
  {
   "cell_type": "code",
   "execution_count": 12,
   "id": "42c00c4d",
   "metadata": {},
   "outputs": [
    {
     "name": "stdout",
     "output_type": "stream",
     "text": [
      "The total value of the inventory is $263364.76\n"
     ]
    }
   ],
   "source": [
    "total_value = 0\n",
    "for prod_id in prices.keys():\n",
    "    total_value += prices[prod_id] * total_inventory[prod_id]\n",
    "print(f'The total value of the inventory is ${total_value}')"
   ]
  }
 ],
 "metadata": {
  "kernelspec": {
   "display_name": "Python 3 (ipykernel)",
   "language": "python",
   "name": "python3"
  },
  "language_info": {
   "codemirror_mode": {
    "name": "ipython",
    "version": 3
   },
   "file_extension": ".py",
   "mimetype": "text/x-python",
   "name": "python",
   "nbconvert_exporter": "python",
   "pygments_lexer": "ipython3",
   "version": "3.10.6"
  }
 },
 "nbformat": 4,
 "nbformat_minor": 5
}
