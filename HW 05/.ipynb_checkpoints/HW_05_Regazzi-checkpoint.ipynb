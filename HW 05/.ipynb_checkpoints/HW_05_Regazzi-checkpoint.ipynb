{
 "cells": [
  {
   "cell_type": "markdown",
   "id": "9955d9ed",
   "metadata": {},
   "source": [
    "# DSCI 303 - Homework 05\n",
    "### Vincent Regazzi"
   ]
  },
  {
   "cell_type": "code",
   "execution_count": 2,
   "id": "0a29c8a0",
   "metadata": {},
   "outputs": [],
   "source": [
    "import numpy as np\n",
    "import math\n",
    "import matplotlib.pyplot as plt"
   ]
  },
  {
   "cell_type": "markdown",
   "id": "6666af47",
   "metadata": {},
   "source": [
    "## Problem 1: Sample Mean and Variance"
   ]
  },
  {
   "cell_type": "code",
   "execution_count": 13,
   "id": "89aee077",
   "metadata": {},
   "outputs": [
    {
     "name": "stdout",
     "output_type": "stream",
     "text": [
      "Sample Mean:     16.6\n",
      "Sample Variance: 25.6\n"
     ]
    }
   ],
   "source": [
    "x = np.array([10, 16, 26, 12, 17, 22, 14, 12, 21, 16])\n",
    "n = len(x)\n",
    "mean = np.sum(x) / n\n",
    "diff = x - mean\n",
    "var = (np.sum(diff**2)) / (n - 1)\n",
    "print(f'Sample Mean:     {mean}')\n",
    "print(f'Sample Variance: {var}')"
   ]
  },
  {
   "cell_type": "code",
   "execution_count": 3,
   "id": "1fe60a79",
   "metadata": {},
   "outputs": [
    {
     "name": "stdout",
     "output_type": "stream",
     "text": [
      "Sample Mean:     16.6\n",
      "Sample Variance: 25.6\n"
     ]
    }
   ],
   "source": [
    "mean_np = np.mean(x)\n",
    "var_np = np.var(x, ddof = 1)\n",
    "print(f'Sample Mean:     {mean_np}')\n",
    "print(f'Sample Variance: {var_np}')"
   ]
  },
  {
   "cell_type": "markdown",
   "id": "f802a877",
   "metadata": {},
   "source": [
    "## Problem 2: Scoring a Regression Model"
   ]
  },
  {
   "cell_type": "code",
   "execution_count": 4,
   "id": "d194adc2",
   "metadata": {},
   "outputs": [],
   "source": [
    "def find_sse(true_y, pred_y):\n",
    "    true = np.array(true_y)\n",
    "    pred = np.array(pred_y)\n",
    "    return np.sum((true - pred)**2)"
   ]
  },
  {
   "cell_type": "code",
   "execution_count": 5,
   "id": "f38a5540",
   "metadata": {},
   "outputs": [
    {
     "name": "stdout",
     "output_type": "stream",
     "text": [
      "Model 1 SSE: 22.66\n",
      "Model 2 SSE: 19.90\n"
     ]
    }
   ],
   "source": [
    "true_y = np.array([22.1, 17.9, 16.5, 14.3, 19.8, 23.7, 22.0, 18.4, 25.7, 19.2])\n",
    "pred_1 = np.array([21.4, 16.7, 17.9, 12.1, 22.1, 25.1, 21.7, 19.3, 23.4, 19.9])\n",
    "pred_2 = np.array([20.7, 18.1, 16.9, 13.6, 21.9, 24.8, 20.3, 21.1, 24.8, 18.4])\n",
    "\n",
    "sse_1 = find_sse(true_y, pred_1)\n",
    "sse_2 = find_sse(true_y, pred_2)\n",
    "\n",
    "print(f'Model 1 SSE: {round(sse_1, 2):.02f}')\n",
    "print(f'Model 2 SSE: {round(sse_2, 2):.02f}')"
   ]
  },
  {
   "cell_type": "markdown",
   "id": "71bc9b5f",
   "metadata": {},
   "source": [
    "## Problem 3: Scoring a Classification Model"
   ]
  },
  {
   "cell_type": "code",
   "execution_count": 11,
   "id": "912d71f2",
   "metadata": {},
   "outputs": [],
   "source": [
    "def find_accuracy(true_y, pred_y):\n",
    "    true = np.array(true_y)\n",
    "    pred = np.array(pred_y)\n",
    "    return np.sum(true_y == pred_y) / len(pred_y)"
   ]
  },
  {
   "cell_type": "code",
   "execution_count": 7,
   "id": "e8c01762",
   "metadata": {},
   "outputs": [
    {
     "name": "stdout",
     "output_type": "stream",
     "text": [
      "Model Accuracy: 0.75\n"
     ]
    }
   ],
   "source": [
    "true_diag = np.array(['P', 'P', 'N', 'N', 'P', 'N', 'N', 'N', 'P', 'N', 'N', 'N', 'N', 'P', 'P', 'N', 'N',\n",
    "'N', 'N', 'N'])\n",
    "pred_diag = np.array(['N', 'P', 'N', 'P', 'P', 'N', 'P', 'N', 'P', 'N', 'N', 'N', 'P', 'P', 'P', 'N', 'N',\n",
    "'N', 'P', 'N'])\n",
    "print(f'Model Accuracy: {find_accuracy(true_diag, pred_diag)}')"
   ]
  },
  {
   "cell_type": "code",
   "execution_count": 8,
   "id": "0a4c8511",
   "metadata": {},
   "outputs": [
    {
     "name": "stdout",
     "output_type": "stream",
     "text": [
      "Model Accuracy: 0.875\n"
     ]
    }
   ],
   "source": [
    "true_labels = np.array(['dog', 'dog', 'cat', 'dog', 'cat', 'cat', 'cat', 'dog', 'cat', 'cat', 'dog', 'cat',\n",
    "'cat', 'dog', 'dog', 'dog', 'dog', 'cat', 'cat', 'cat', 'dog', 'dog', 'cat', 'cat'])\n",
    "pred_labels = np.array(['dog', 'dog', 'cat', 'dog', 'cat', 'dog', 'cat', 'dog', 'cat', 'cat', 'dog', 'cat',\n",
    "'cat', 'dog', 'cat', 'dog', 'dog', 'cat', 'dog', 'cat', 'dog', 'dog', 'cat', 'cat'])\n",
    "print(f'Model Accuracy: {find_accuracy(true_labels, pred_labels)}')"
   ]
  },
  {
   "cell_type": "markdown",
   "id": "71bb09e6",
   "metadata": {},
   "source": [
    "## Problem 4: Classification Report"
   ]
  },
  {
   "cell_type": "code",
   "execution_count": 23,
   "id": "efadf553",
   "metadata": {},
   "outputs": [],
   "source": [
    "def classification_report(true_y, pred_y):\n",
    "    classes = np.unique(true_y)\n",
    "    accuracy = find_accuracy(true_y, pred_y)\n",
    "    \n",
    "    tp = np.sum((classes[1] == pred_y) & (classes[1] == true_y))\n",
    "    fp = np.sum((classes[1] == pred_y) & (classes[0] == true_y))\n",
    "    tn = np.sum((classes[0] == pred_y) & (classes[0] == true_y))\n",
    "    fn = np.sum((classes[0] == pred_y) & (classes[1] == true_y))\n",
    "\n",
    "    posPrec = tp / (tp + fp)\n",
    "    posRec = tp / (tp + fn)\n",
    "    negPrec = tn / (tn + fn)\n",
    "    negRec = tn / (tn + fp)\n",
    "    \n",
    "    print(f'Positive Class:     {classes[1]}')\n",
    "    print(f'Negative Class:     {classes[0]}')\n",
    "    print()\n",
    "    print(f'Accuracy:           {accuracy:.04f}')\n",
    "    print(f'Positive Precision: {posPrec:.04f}')\n",
    "    print(f'Positive Recall:    {posRec:.04f}')\n",
    "    print(f'Negative Precision: {negPrec:.04f}')\n",
    "    print(f'Negative Recall:    {negRec:.04f}')"
   ]
  },
  {
   "cell_type": "code",
   "execution_count": 24,
   "id": "2942f356",
   "metadata": {},
   "outputs": [
    {
     "name": "stdout",
     "output_type": "stream",
     "text": [
      "Positive Class:     P\n",
      "Negative Class:     N\n",
      "\n",
      "Accuracy:           0.7500\n",
      "Positive Precision: 0.5556\n",
      "Positive Recall:    0.8333\n",
      "Negative Precision: 0.9091\n",
      "Negative Recall:    0.7143\n"
     ]
    }
   ],
   "source": [
    "classification_report(true_diag, pred_diag)"
   ]
  },
  {
   "cell_type": "code",
   "execution_count": 25,
   "id": "2e54597e",
   "metadata": {},
   "outputs": [
    {
     "name": "stdout",
     "output_type": "stream",
     "text": [
      "Positive Class:     dog\n",
      "Negative Class:     cat\n",
      "\n",
      "Accuracy:           0.8750\n",
      "Positive Precision: 0.8333\n",
      "Positive Recall:    0.9091\n",
      "Negative Precision: 0.9167\n",
      "Negative Recall:    0.8462\n"
     ]
    }
   ],
   "source": [
    "classification_report(true_labels, pred_labels)"
   ]
  },
  {
   "cell_type": "markdown",
   "id": "b602d79d",
   "metadata": {},
   "source": [
    "## Problem 5: Transformation and Random Variables"
   ]
  },
  {
   "cell_type": "code",
   "execution_count": 156,
   "id": "1ee931d1",
   "metadata": {},
   "outputs": [
    {
     "name": "stdout",
     "output_type": "stream",
     "text": [
      "Sample Mean of X:    0.0011\n",
      "Sample Std Dev of X: 0.3978\n",
      "Sample Mean of Y:    1.0835\n",
      "Sample Std Dev of Y: 0.4484\n"
     ]
    }
   ],
   "source": [
    "X = np.random.normal(loc = 0, scale = 0.4, size = 25000)\n",
    "Y = np.exp(X)\n",
    "\n",
    "print(f'Sample Mean of X:   {np.mean(X): .04f}')\n",
    "print(f'Sample Std Dev of X: {np.std(X, ddof = 1):.04f}')\n",
    "print(f'Sample Mean of Y:    {np.mean(Y):.04f}')\n",
    "print(f'Sample Std Dev of Y: {np.std(Y, ddof = 1):.04f}')"
   ]
  },
  {
   "cell_type": "code",
   "execution_count": 158,
   "id": "487a00c7",
   "metadata": {},
   "outputs": [
    {
     "data": {
      "image/png": "[encoded data removed]",
      "text/plain": [
       "<Figure size 1200x400 with 2 Axes>"
      ]
     },
     "metadata": {},
     "output_type": "display_data"
    }
   ],
   "source": [
    "plt.figure(figsize = [12, 4])\n",
    "plt.subplot(1, 2, 1)\n",
    "plt.hist(X, edgecolor='k', color='red', bins=30)\n",
    "plt.title(\"Histogram of X Values\")\n",
    "\n",
    "plt.subplot(1, 2, 2)\n",
    "plt.hist(Y, edgecolor='k', color='blue', bins=30)\n",
    "plt.title(\"Histogram of Y Values\")\n",
    "\n",
    "plt.show()"
   ]
  },
  {
   "cell_type": "code",
   "execution_count": 160,
   "id": "cf125d07",
   "metadata": {},
   "outputs": [
    {
     "name": "stdout",
     "output_type": "stream",
     "text": [
      "Probability that Y is less than 0.5: 0.0397\n",
      "Probability that Y is less than 1.0: 0.5005\n",
      "Probability that Y is less than 2.0: 0.9576\n"
     ]
    }
   ],
   "source": [
    "print(f'Probability that Y is less than 0.5: {np.mean(Y < 0.5):.04f}')\n",
    "print(f'Probability that Y is less than 1.0: {np.mean(Y < 1.0):.04f}')\n",
    "print(f'Probability that Y is less than 2.0: {np.mean(Y < 2.0):.04f}')"
   ]
  },
  {
   "cell_type": "markdown",
   "id": "86040006",
   "metadata": {},
   "source": [
    "## Problem 6: Stochastic Linear Relationships"
   ]
  },
  {
   "cell_type": "code",
   "execution_count": 166,
   "id": "4ed1309f",
   "metadata": {},
   "outputs": [
    {
     "data": {
      "image/png": "[encoded data removed]",
      "text/plain": [
       "<Figure size 800x600 with 1 Axes>"
      ]
     },
     "metadata": {},
     "output_type": "display_data"
    }
   ],
   "source": [
    "np.random.seed(seed = 1)\n",
    "x_vals = np.random.normal(loc = 10, scale = 2, size = 200)\n",
    "errors = np.random.normal(loc = 0, scale = 1.2, size = 200)\n",
    "y_vals = np.array(5.1 + 0.9 * x_vals + errors)\n",
    "\n",
    "plt.figure(figsize = [8, 6])\n",
    "plt.scatter(x = x_vals, y = y_vals, s=60, alpha=0.8, color='gold', edgecolor='black')\n",
    "plt.xlabel(\"X Values\")\n",
    "plt.ylabel(\"Y Values\")\n",
    "plt.show()\n"
   ]
  },
  {
   "cell_type": "code",
   "execution_count": 180,
   "id": "7ac64be1",
   "metadata": {},
   "outputs": [
    {
     "name": "stdout",
     "output_type": "stream",
     "text": [
      "Correlation between X and Y: 0.7861\n"
     ]
    }
   ],
   "source": [
    "diff_x = np.array(x_vals - np.mean(x_vals))\n",
    "diff_y = np.array(y_vals - np.mean(y_vals))\n",
    "top = np.sum(diff_x * diff_y)\n",
    "bottom = np.sqrt(np.sum(diff_x ** 2) * np.sum(diff_y ** 2))\n",
    "r = top / bottom\n",
    "print(f'Correlation between X and Y: {r:.04f}')"
   ]
  },
  {
   "cell_type": "markdown",
   "id": "9b94cb00",
   "metadata": {},
   "source": [
    "## Problem 7: Relationship between Life Expectancy and Per Capita GDP"
   ]
  },
  {
   "cell_type": "code",
   "execution_count": 181,
   "id": "20a3352e",
   "metadata": {},
   "outputs": [],
   "source": [
    "import pandas as pd\n",
    "df = pd.read_csv('gapminder_data.txt', sep='\\t')\n",
    "country = df.country.values\n",
    "year = df.year.values\n",
    "continent = df.continent.values\n",
    "population = df.population.values\n",
    "life_exp = df.life_exp.values\n",
    "pcgdp = df.gdp_per_cap.values\n",
    "gini = df.gini.values\n",
    "df = None"
   ]
  },
  {
   "cell_type": "code",
   "execution_count": 182,
   "id": "e77fa9de",
   "metadata": {},
   "outputs": [],
   "source": [
    "continent_list = ['africa', 'americas', 'asia', 'europe']\n",
    "color_list = ['red', 'yellow', 'green', 'blue']"
   ]
  },
  {
   "cell_type": "code",
   "execution_count": null,
   "id": "1a7aba77",
   "metadata": {},
   "outputs": [],
   "source": [
    "plt.figure(figsize = [8, 6])\n",
    "for i in range(0, 4):\n",
    "    sel\n",
    "    \n",
    "    \n",
    "    plt.scatter(x = x, y = y, s=100, alpha=0.y, color=color_list[i], edgecolor='black')\n",
    "plt.xlabel('Natural Log of Per Capita GDP')\n",
    "plt.ylabel('Life Expectancy')\n",
    "plt.title('Life Expectency vs Per Capita GDP (2018)')\n",
    "plt.legend()\n",
    "plt.show()\n"
   ]
  },
  {
   "cell_type": "code",
   "execution_count": null,
   "id": "442f6355",
   "metadata": {},
   "outputs": [],
   "source": []
  }
 ],
 "metadata": {
  "kernelspec": {
   "display_name": "Python 3 (ipykernel)",
   "language": "python",
   "name": "python3"
  },
  "language_info": {
   "codemirror_mode": {
    "name": "ipython",
    "version": 3
   },
   "file_extension": ".py",
   "mimetype": "text/x-python",
   "name": "python",
   "nbconvert_exporter": "python",
   "pygments_lexer": "ipython3",
   "version": "3.10.6"
  }
 },
 "nbformat": 4,
 "nbformat_minor": 5
}
