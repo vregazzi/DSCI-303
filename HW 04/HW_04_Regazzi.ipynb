{
 "cells": [
  {
   "cell_type": "markdown",
   "id": "d1a32950",
   "metadata": {},
   "source": [
    "# DSCI 303 - Homework 04\n",
    "**Vincent Regazzi**"
   ]
  },
  {
   "cell_type": "markdown",
   "id": "10d58f9f",
   "metadata": {},
   "source": [
    "## Problem 1: Dot Product"
   ]
  },
  {
   "cell_type": "code",
   "execution_count": 1,
   "id": "cc49851d",
   "metadata": {},
   "outputs": [],
   "source": [
    "def dot_product(x, y):\n",
    "    total = 0\n",
    "    for i in range(0, len(x)):\n",
    "        total += x[i] * y[i]\n",
    "    return total"
   ]
  },
  {
   "cell_type": "code",
   "execution_count": 2,
   "id": "94eaa608",
   "metadata": {},
   "outputs": [
    {
     "name": "stdout",
     "output_type": "stream",
     "text": [
      "The dot product of v1 and v2 is 16220.\n"
     ]
    }
   ],
   "source": [
    "v1=[38, 9,40,34,20,16,42,36,12, 1,23,46,31,19,30,33,16,43,24,41]\n",
    "v2=[43,13,35,14,26, 3,36,15,42,44,45,20,17, 6,47,40,38,41,31,24]\n",
    "\n",
    "print(f'The dot product of v1 and v2 is {dot_product(v1, v2)}.')"
   ]
  },
  {
   "cell_type": "markdown",
   "id": "72f9a524",
   "metadata": {},
   "source": [
    "## Problem 2: Amortization"
   ]
  },
  {
   "cell_type": "code",
   "execution_count": 3,
   "id": "800baa24",
   "metadata": {},
   "outputs": [],
   "source": [
    "def count_payments(amount, rate, pmt):\n",
    "    count = 0\n",
    "    while amount > 0:\n",
    "        amount = amount * (1 + rate)\n",
    "        amount = amount - pmt\n",
    "        round(amount, 2)\n",
    "        count += 1\n",
    "    return count"
   ]
  },
  {
   "cell_type": "code",
   "execution_count": 4,
   "id": "ae902ffa",
   "metadata": {},
   "outputs": [
    {
     "name": "stdout",
     "output_type": "stream",
     "text": [
      "351 monthly payments of $850 would be required.\n",
      "312 monthly payments of $900 would be required.\n",
      "281 monthly payments of $950 would be required.\n",
      "256 monthly payments of $1000 would be required.\n",
      "236 monthly payments of $1050 would be required.\n"
     ]
    }
   ],
   "source": [
    "for i in range(0, 5):\n",
    "    pmt = 850 + (50 * i)\n",
    "    print(f'{count_payments(160000, .004, pmt)} monthly payments of ${pmt} would be required.')    "
   ]
  },
  {
   "cell_type": "code",
   "execution_count": 5,
   "id": "f8d675ef",
   "metadata": {},
   "outputs": [
    {
     "name": "stdout",
     "output_type": "stream",
     "text": [
      "308 monthly payments of $850 would be required.\n",
      "279 monthly payments of $900 would be required.\n",
      "255 monthly payments of $950 would be required.\n",
      "235 monthly payments of $1000 would be required.\n",
      "219 monthly payments of $1050 would be required.\n"
     ]
    }
   ],
   "source": [
    "for i in range(0, 5):\n",
    "    pmt = 850 + (50 * i)\n",
    "    print(f'{count_payments(160000, .0035, pmt)} monthly payments of ${pmt} would be required.')    "
   ]
  },
  {
   "cell_type": "markdown",
   "id": "e76d20b3",
   "metadata": {},
   "source": [
    "## Problem 3: Minimum"
   ]
  },
  {
   "cell_type": "code",
   "execution_count": 6,
   "id": "e36a5dbb",
   "metadata": {},
   "outputs": [],
   "source": [
    "def minimum(x):\n",
    "    \n",
    "    smallest = x[0]\n",
    "    for i in range(1, len(x)):\n",
    "        if x[i] < smallest:\n",
    "            smallest = x[i]\n",
    "    return smallest"
   ]
  },
  {
   "cell_type": "code",
   "execution_count": 7,
   "id": "50efa3c6",
   "metadata": {},
   "outputs": [
    {
     "name": "stdout",
     "output_type": "stream",
     "text": [
      "4.1\n",
      "3.4\n",
      "Chicago\n"
     ]
    }
   ],
   "source": [
    "list1 = [9.8, 7.4, 5.6, 4.8, 4.8, 5.3, 4.1, 9.6, 5.4]\n",
    "list2 = [3.4, 7.6, 8.7, 7.5, 9.8, 7.5, 6.7, 8.7, 8.4]\n",
    "list3 = ['St. Louis', 'Kansas City', 'Chicago', 'Little Rock', 'Omaha']\n",
    "\n",
    "print(minimum(list1))\n",
    "print(minimum(list2))\n",
    "print(minimum(list3))"
   ]
  },
  {
   "cell_type": "markdown",
   "id": "7a03e74a",
   "metadata": {},
   "source": [
    "## Problem 4: Argmin"
   ]
  },
  {
   "cell_type": "code",
   "execution_count": 8,
   "id": "e27f60eb",
   "metadata": {},
   "outputs": [],
   "source": [
    "def argmin(x):\n",
    "    smallest = x[0]\n",
    "    index = 0\n",
    "    for i in range(1, len(x)):\n",
    "        if x[i] < smallest:\n",
    "            smallest = x[i]\n",
    "            index = i\n",
    "    return index"
   ]
  },
  {
   "cell_type": "code",
   "execution_count": 9,
   "id": "86e1fee0",
   "metadata": {},
   "outputs": [
    {
     "name": "stdout",
     "output_type": "stream",
     "text": [
      "6\n",
      "0\n",
      "2\n"
     ]
    }
   ],
   "source": [
    "print(argmin(list1))\n",
    "print(argmin(list2))\n",
    "print(argmin(list3))"
   ]
  },
  {
   "cell_type": "markdown",
   "id": "0027d732",
   "metadata": {},
   "source": [
    "## Problem 5: Find Smallest Elements"
   ]
  },
  {
   "cell_type": "code",
   "execution_count": 10,
   "id": "cd95c668",
   "metadata": {},
   "outputs": [],
   "source": [
    "def find_smallest(x, n=None):\n",
    "    if n == None:\n",
    "        smallest = sorted(x)[0]\n",
    "    elif n > 0:\n",
    "        smallest = sorted(x)[0:n]\n",
    "    elif n >x:\n",
    "        smallest = sorted(x)\n",
    "        \n",
    "    return smallest"
   ]
  },
  {
   "cell_type": "code",
   "execution_count": 11,
   "id": "55a78671",
   "metadata": {},
   "outputs": [
    {
     "name": "stdout",
     "output_type": "stream",
     "text": [
      "17\n",
      "[17]\n",
      "[17, 28]\n",
      "[17, 28, 28, 39, 53]\n",
      "[17, 28, 28, 39, 53, 54, 64, 74]\n"
     ]
    }
   ],
   "source": [
    "my_list = [39, 74, 28, 64, 17, 28, 54, 53]\n",
    "print(find_smallest(my_list))\n",
    "print(find_smallest(my_list, 1))\n",
    "print(find_smallest(my_list, 2))\n",
    "print(find_smallest(my_list, 5))\n",
    "print(find_smallest(my_list, 12))"
   ]
  },
  {
   "cell_type": "code",
   "execution_count": 12,
   "id": "ebccc6df",
   "metadata": {},
   "outputs": [
    {
     "name": "stdout",
     "output_type": "stream",
     "text": [
      "[39, 74, 28, 64, 17, 28, 54, 53]\n"
     ]
    }
   ],
   "source": [
    "print(my_list)"
   ]
  },
  {
   "cell_type": "markdown",
   "id": "7928981f",
   "metadata": {},
   "source": [
    "## Problem 6: Find Unique Elements"
   ]
  },
  {
   "cell_type": "code",
   "execution_count": 13,
   "id": "5b9669c9",
   "metadata": {},
   "outputs": [],
   "source": [
    "def unique(x):\n",
    "    y = []\n",
    "    for i in range(0, len(x)):\n",
    "        if x[i] not in y:\n",
    "            y.append(x[i])        \n",
    "    y.sort()\n",
    "    return y "
   ]
  },
  {
   "cell_type": "code",
   "execution_count": 14,
   "id": "13771a1a",
   "metadata": {
    "scrolled": true
   },
   "outputs": [
    {
     "name": "stdout",
     "output_type": "stream",
     "text": [
      "[12, 14, 16, 19, 23]\n",
      "['bat', 'cat', 'dog', 'frog']\n"
     ]
    }
   ],
   "source": [
    "int_list = [23, 16, 23, 12, 14, 23, 12, 19, 19]\n",
    "str_list = ['cat', 'dog', 'dog', 'cat', 'bat', 'frog', 'dog', 'frog']\n",
    "\n",
    "print(unique(int_list))\n",
    "print(unique(str_list))"
   ]
  },
  {
   "cell_type": "markdown",
   "id": "2e075a3e",
   "metadata": {},
   "source": [
    "## Problem 7: Frequency Distribution"
   ]
  },
  {
   "cell_type": "code",
   "execution_count": 15,
   "id": "24bf9892",
   "metadata": {},
   "outputs": [],
   "source": [
    "def freq_dist(x):\n",
    "    values = unique(x)\n",
    "    counts = []\n",
    "    for i in range(0, len(values)):\n",
    "        counts.append(x.count(values[i]))\n",
    "\n",
    "    return (values, counts)"
   ]
  },
  {
   "cell_type": "code",
   "execution_count": 16,
   "id": "cbcae139",
   "metadata": {},
   "outputs": [
    {
     "name": "stdout",
     "output_type": "stream",
     "text": [
      "Unique Values: ['A', 'B', 'C', 'D', 'F']\n",
      "Frequencies:   [6, 8, 5, 5, 3]\n"
     ]
    }
   ],
   "source": [
    "grades = ['A', 'D', 'A', 'C', 'B', 'F', 'A', 'D', 'C', 'B', 'F', 'A', 'C', 'B', 'A', 'B', 'B', 'C', 'B', 'F', 'D', 'D', 'A', 'C', 'B', 'B', 'D']\n",
    "u, f = freq_dist(grades)\n",
    "print(f'Unique Values: {u}')\n",
    "print(f'Frequencies:   {f}')"
   ]
  },
  {
   "cell_type": "markdown",
   "id": "7fcb802a",
   "metadata": {},
   "source": [
    "## Problem 8: Weighted Means"
   ]
  },
  {
   "cell_type": "code",
   "execution_count": 17,
   "id": "3263afa9",
   "metadata": {},
   "outputs": [],
   "source": [
    "def mean(x, w=None):\n",
    "    if w == None:\n",
    "        mean = sum(x)/len(x)\n",
    "    else:\n",
    "        numerator = 0\n",
    "        denominator = 0\n",
    "        for i in range(0, len(x)):\n",
    "            numerator += w[i] * x[i]\n",
    "            denominator += w[i]\n",
    "        mean = numerator / denominator\n",
    "    return mean"
   ]
  },
  {
   "cell_type": "code",
   "execution_count": 18,
   "id": "ba57bfef",
   "metadata": {},
   "outputs": [
    {
     "name": "stdout",
     "output_type": "stream",
     "text": [
      "Standard Mean: 4.9\n",
      "Weighted Mean: 4.15\n"
     ]
    }
   ],
   "source": [
    "values = [4, 7, 3, 5, 2, 6, 8, 2, 4, 8]\n",
    "weights = [2, 1, 3, 1, 2, 3, 1, 4, 2, 1]\n",
    "print(f'Standard Mean: {mean(values)}')\n",
    "print(f'Weighted Mean: {mean(values, weights)}')"
   ]
  }
 ],
 "metadata": {
  "kernelspec": {
   "display_name": "Python 3 (ipykernel)",
   "language": "python",
   "name": "python3"
  },
  "language_info": {
   "codemirror_mode": {
    "name": "ipython",
    "version": 3
   },
   "file_extension": ".py",
   "mimetype": "text/x-python",
   "name": "python",
   "nbconvert_exporter": "python",
   "pygments_lexer": "ipython3",
   "version": "3.10.6"
  }
 },
 "nbformat": 4,
 "nbformat_minor": 5
}
